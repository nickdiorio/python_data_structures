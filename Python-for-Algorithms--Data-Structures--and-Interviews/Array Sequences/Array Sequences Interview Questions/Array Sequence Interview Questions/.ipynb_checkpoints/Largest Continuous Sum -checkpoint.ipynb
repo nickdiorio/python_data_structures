{
 "cells": [
  {
   "cell_type": "markdown",
   "metadata": {},
   "source": [
    "# Largest Continuous Sum\n",
    "\n",
    "## Problem\n",
    "Given an array of integers (positive and negative) find the largest continuous sum. \n",
    "\n",
    "## Solution\n",
    "\n",
    "Fill out your solution below:"
   ]
  },
  {
   "cell_type": "code",
   "execution_count": 34,
   "metadata": {
    "collapsed": false
   },
   "outputs": [],
   "source": [
    "def large_cont_sum_nick(arr): \n",
    "    \n",
    "    import time\n",
    "    \n",
    "    sums = []\n",
    "    starts = []\n",
    "    ends = []\n",
    "    \n",
    "    tic = time.clock()\n",
    "    for i, v in enumerate(arr):\n",
    "        for i2, v2 in enumerate(arr):\n",
    "            if i == i2:\n",
    "                sums.append(arr[i])\n",
    "                starts.append(i)\n",
    "                ends.append(i)  \n",
    "            elif i2 > i:\n",
    "                sums.append(sum(arr[i:i2]))\n",
    "                starts.append(i)\n",
    "                ends.append(i2)\n",
    "    \n",
    "    max_sum = max(sums)\n",
    "    start_val = starts[sums.index(max_sum)]\n",
    "    end_val = ends[sums.index(max_sum)]\n",
    "    \n",
    "    toc = time.clock()\n",
    "    \n",
    "    print \"Processing time: \" + str(toc-tic)\n",
    "    #print \"Largest sum: \" + str(max(sums)) + \" start: \" + str(start_val) + \" end: \" + str(end_val)\n",
    "    \n",
    "    return max_sum\n",
    "        "
   ]
  },
  {
   "cell_type": "code",
   "execution_count": 35,
   "metadata": {
    "collapsed": true
   },
   "outputs": [],
   "source": [
    "def large_cont_sum(arr):\n",
    "    \n",
    "    import time\n",
    "    \n",
    "    if len(arr) == 0:\n",
    "        return 0\n",
    "    \n",
    "    max_sum = current_sum = arr[0]\n",
    "    \n",
    "    tic = time.clock()\n",
    "    \n",
    "    for num in arr[1:]:\n",
    "        \n",
    "        current_sum = max(current_sum + num, num)\n",
    "        \n",
    "        max_sum = max(current_sum, max_sum)\n",
    "        \n",
    "    toc = time.clock()\n",
    "    \n",
    "    print \"Processing time: \" + str(toc-tic)\n",
    "\n",
    "    return max_sum\n",
    "    \n",
    "    "
   ]
  },
  {
   "cell_type": "code",
   "execution_count": 36,
   "metadata": {
    "collapsed": false
   },
   "outputs": [
    {
     "name": "stdout",
     "output_type": "stream",
     "text": [
      "Processing time: 4.99734142068e-06\n",
      "Processing time: 0.000166578047128\n",
      "Processing time: 3.66471704183e-06\n",
      "Processing time: 5.03065701878e-05\n",
      "Processing time: 1.99893656827e-06\n",
      "Processing time: 5.99680970481e-06\n"
     ]
    },
    {
     "data": {
      "text/plain": [
       "1"
      ]
     },
     "execution_count": 36,
     "metadata": {},
     "output_type": "execute_result"
    }
   ],
   "source": [
    "large_cont_sum([1,2,-1,3,4,10,10,-10,-1])\n",
    "large_cont_sum_nick([1,2,-1,3,4,10,10,-10,-1])\n",
    "large_cont_sum([1,2,-1,3,4,-1])\n",
    "large_cont_sum_nick([1,2,-1,3,4,-1])\n",
    "large_cont_sum([-1,1])\n",
    "large_cont_sum_nick([-1,1])"
   ]
  },
  {
   "cell_type": "markdown",
   "metadata": {},
   "source": [
    "____\n",
    "Many times in an interview setting the question also requires you to report back the start and end points of the sum. Keep this in mind and see if you can solve that problem, we'll see it in the mock interview section of the course!"
   ]
  },
  {
   "cell_type": "markdown",
   "metadata": {},
   "source": [
    "# Test Your Solution"
   ]
  },
  {
   "cell_type": "code",
   "execution_count": 24,
   "metadata": {
    "collapsed": false
   },
   "outputs": [
    {
     "name": "stdout",
     "output_type": "stream",
     "text": [
      "Processing time: 2.5653019236e-05\n",
      "Largest sum: 9 start: 0 end: 5\n",
      "Processing time: 7.26280285335e-05\n",
      "Largest sum: 29 start: 0 end: 7\n",
      "Processing time: 5.6636536101e-06\n",
      "Largest sum: 1 start: 1 end: 1\n",
      "ALL TEST CASES PASSED\n"
     ]
    }
   ],
   "source": [
    "from nose.tools import assert_equal\n",
    "\n",
    "class LargeContTest(object):\n",
    "    def test(self,sol):\n",
    "        assert_equal(sol([1,2,-1,3,4,-1]),9)\n",
    "        assert_equal(sol([1,2,-1,3,4,10,10,-10,-1]),29)\n",
    "        assert_equal(sol([-1,1]),1)\n",
    "        print 'ALL TEST CASES PASSED'\n",
    "        \n",
    "#Run Test\n",
    "t = LargeContTest()\n",
    "t.test(large_cont_sum)"
   ]
  },
  {
   "cell_type": "markdown",
   "metadata": {},
   "source": [
    "## Good Job!"
   ]
  }
 ],
 "metadata": {
  "anaconda-cloud": {},
  "kernelspec": {
   "display_name": "Python [default]",
   "language": "python",
   "name": "python2"
  },
  "language_info": {
   "codemirror_mode": {
    "name": "ipython",
    "version": 2
   },
   "file_extension": ".py",
   "mimetype": "text/x-python",
   "name": "python",
   "nbconvert_exporter": "python",
   "pygments_lexer": "ipython2",
   "version": "2.7.12"
  }
 },
 "nbformat": 4,
 "nbformat_minor": 0
}
