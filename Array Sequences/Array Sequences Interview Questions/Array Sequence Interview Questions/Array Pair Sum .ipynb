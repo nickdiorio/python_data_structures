{
 "cells": [
  {
   "cell_type": "markdown",
   "metadata": {},
   "source": [
    "# Array Pair Sum\n",
    "\n",
    "## Problem\n",
    "\n",
    "Given an integer array, output all the ** *unique* ** pairs that sum up to a specific value **k**.\n",
    "\n",
    "So the input:\n",
    "    \n",
    "    pair_sum([1,3,2,2],4)\n",
    "\n",
    "would return **2** pairs:\n",
    "\n",
    "     (1,3)\n",
    "     (2,2)\n",
    "\n",
    "**NOTE: FOR TESTING PURPOSES CHANGE YOUR FUNCTION SO IT OUTPUTS THE NUMBER OF PAIRS**\n",
    "\n",
    "## Solution\n",
    "\n",
    "Fill out your solution below:"
   ]
  },
  {
   "cell_type": "code",
   "execution_count": 13,
   "metadata": {
    "collapsed": false
   },
   "outputs": [],
   "source": [
    "def pair_sum_quadratic(array, k):\n",
    "    \n",
    "    pairs = []\n",
    "    for i in array:\n",
    "        for j in array:\n",
    "            if i + j == k:\n",
    "                print \"Pair: [\" + str(i) + \", \" + str(j) + \"]\"\n",
    "                pair = min(i, j), max(i,j)\n",
    "                pairs.append(pair)\n",
    "    unique_pairs = set(pairs)\n",
    "    for p in unique_pairs:\n",
    "        print \"Unique pair: \" + str(p)\n",
    "\n",
    "    \n",
    "    return len(unique_pairs)"
   ]
  },
  {
   "cell_type": "code",
   "execution_count": 23,
   "metadata": {
    "collapsed": false
   },
   "outputs": [],
   "source": [
    "def pair_sum(array, k):\n",
    "\n",
    "    if len(array) < 2:\n",
    "        return\n",
    "\n",
    "    # sets for tracking\n",
    "    seen = set()\n",
    "    output = set()\n",
    "    \n",
    "    for num in array:\n",
    "        \n",
    "        target = k - num\n",
    "        \n",
    "        if target not in seen:\n",
    "            seen.add(num)\n",
    "        else:\n",
    "            output.add( (min(num, target), max(num, target)) )\n",
    "            \n",
    "    print '\\n'.join(map(str, list(output)))\n",
    "    return len(output)\n",
    "        "
   ]
  },
  {
   "cell_type": "code",
   "execution_count": 24,
   "metadata": {
    "collapsed": false
   },
   "outputs": [
    {
     "name": "stdout",
     "output_type": "stream",
     "text": [
      "(1, 3)\n",
      "(2, 2)\n"
     ]
    },
    {
     "data": {
      "text/plain": [
       "2"
      ]
     },
     "execution_count": 24,
     "metadata": {},
     "output_type": "execute_result"
    }
   ],
   "source": [
    "pair_sum([1,3,2,2],4)"
   ]
  },
  {
   "cell_type": "markdown",
   "metadata": {},
   "source": [
    "# Test Your Solution"
   ]
  },
  {
   "cell_type": "code",
   "execution_count": 15,
   "metadata": {
    "collapsed": false
   },
   "outputs": [
    {
     "name": "stdout",
     "output_type": "stream",
     "text": [
      "Pair: [1, 9]\n",
      "Pair: [9, 1]\n",
      "Pair: [2, 8]\n",
      "Pair: [8, 2]\n",
      "Pair: [3, 7]\n",
      "Pair: [7, 3]\n",
      "Pair: [4, 6]\n",
      "Pair: [6, 4]\n",
      "Pair: [5, 5]\n",
      "Pair: [5, 5]\n",
      "Pair: [5, 5]\n",
      "Pair: [5, 5]\n",
      "Pair: [11, -1]\n",
      "Pair: [-1, 11]\n",
      "Unique pair: (5, 5)\n",
      "Unique pair: (2, 8)\n",
      "Unique pair: (-1, 11)\n",
      "Unique pair: (1, 9)\n",
      "Unique pair: (3, 7)\n",
      "Unique pair: (4, 6)\n",
      "Pair: [1, 2]\n",
      "Pair: [2, 1]\n",
      "Pair: [2, 1]\n",
      "Pair: [1, 2]\n",
      "Unique pair: (1, 2)\n",
      "Pair: [1, 3]\n",
      "Pair: [3, 1]\n",
      "Pair: [2, 2]\n",
      "Pair: [2, 2]\n",
      "Pair: [2, 2]\n",
      "Pair: [2, 2]\n",
      "Unique pair: (1, 3)\n",
      "Unique pair: (2, 2)\n",
      "ALL TEST CASES PASSED\n"
     ]
    }
   ],
   "source": [
    "\"\"\"\n",
    "RUN THIS CELL TO TEST YOUR SOLUTION\n",
    "\"\"\"\n",
    "from nose.tools import assert_equal\n",
    "\n",
    "class TestPair(object):\n",
    "    \n",
    "    def test(self,sol):\n",
    "        assert_equal(sol([1,9,2,8,3,7,4,6,5,5,13,14,11,13,-1],10),6)\n",
    "        assert_equal(sol([1,2,3,1],3),1)\n",
    "        assert_equal(sol([1,3,2,2],4),2)\n",
    "        print 'ALL TEST CASES PASSED'\n",
    "        \n",
    "#Run tests\n",
    "t = TestPair()\n",
    "t.test(pair_sum)\n",
    "    "
   ]
  },
  {
   "cell_type": "markdown",
   "metadata": {},
   "source": [
    "## Good Job!"
   ]
  }
 ],
 "metadata": {
  "anaconda-cloud": {},
  "kernelspec": {
   "display_name": "Python [default]",
   "language": "python",
   "name": "python2"
  },
  "language_info": {
   "codemirror_mode": {
    "name": "ipython",
    "version": 2
   },
   "file_extension": ".py",
   "mimetype": "text/x-python",
   "name": "python",
   "nbconvert_exporter": "python",
   "pygments_lexer": "ipython2",
   "version": "2.7.12"
  }
 },
 "nbformat": 4,
 "nbformat_minor": 0
}
