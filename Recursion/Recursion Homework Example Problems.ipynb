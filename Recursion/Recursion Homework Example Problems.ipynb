{
 "cells": [
  {
   "cell_type": "markdown",
   "metadata": {},
   "source": [
    "# Recursion Homework Problems \n",
    "\n",
    "This assignment is a variety of small problems to begin you getting used to the idea of recursion. They are not full-blown interview questions, but do serve as a great start for getting your mind \"in the zone\" for recursion problems.\n",
    "\n",
    "\n",
    "______\n",
    "### Problem 1\n",
    "\n",
    "**Write a recursive function which takes an integer and computes the cumulative sum of 0 to that integer**\n",
    "\n",
    "**For example, if n=4 , return 4+3+2+1+0, which is 10.**\n",
    "\n",
    "This problem is very similar to the factorial problem presented during the introduction to recursion. Remember, always think of what the base case will look like. In this case, we have a base case of n =0 (Note, you could have also designed the cut off to be 1).\n",
    "\n",
    "In this case, we have:\n",
    "   n + (n-1) + (n-2) + .... + 0\n",
    "\n",
    "Fill out a sample solution:"
   ]
  },
  {
   "cell_type": "code",
   "execution_count": 2,
   "metadata": {
    "collapsed": false
   },
   "outputs": [],
   "source": [
    "def rec_sum(n):\n",
    "    \n",
    "    if n == 0:\n",
    "        return 0\n",
    "    else:\n",
    "        return n + rec_sum(n-1)"
   ]
  },
  {
   "cell_type": "code",
   "execution_count": 3,
   "metadata": {
    "collapsed": false
   },
   "outputs": [
    {
     "data": {
      "text/plain": [
       "10"
      ]
     },
     "execution_count": 3,
     "metadata": {},
     "output_type": "execute_result"
    }
   ],
   "source": [
    "rec_sum(4)"
   ]
  },
  {
   "cell_type": "code",
   "execution_count": 4,
   "metadata": {
    "collapsed": false
   },
   "outputs": [
    {
     "data": {
      "text/plain": [
       "15"
      ]
     },
     "execution_count": 4,
     "metadata": {},
     "output_type": "execute_result"
    }
   ],
   "source": [
    "rec_sum(5)"
   ]
  },
  {
   "cell_type": "markdown",
   "metadata": {},
   "source": [
    "______\n",
    "### Problem 2\n",
    "\n",
    "**Given an integer, create a function which returns the sum of all the individual digits in that integer. For example:\n",
    "if n = 4321, return 4+3+2+1**"
   ]
  },
  {
   "cell_type": "code",
   "execution_count": 8,
   "metadata": {
    "collapsed": true
   },
   "outputs": [],
   "source": [
    "def sum_func(n):\n",
    "    \n",
    "    if n % 10 == n:\n",
    "        return n\n",
    "    \n",
    "    return n % 10 + sum_func(n / 10)"
   ]
  },
  {
   "cell_type": "code",
   "execution_count": 9,
   "metadata": {
    "collapsed": false
   },
   "outputs": [
    {
     "data": {
      "text/plain": [
       "10"
      ]
     },
     "execution_count": 9,
     "metadata": {},
     "output_type": "execute_result"
    }
   ],
   "source": [
    "sum_func(4321)"
   ]
  },
  {
   "cell_type": "code",
   "execution_count": 10,
   "metadata": {
    "collapsed": false
   },
   "outputs": [
    {
     "data": {
      "text/plain": [
       "22"
      ]
     },
     "execution_count": 10,
     "metadata": {},
     "output_type": "execute_result"
    }
   ],
   "source": [
    "sum_func(45454)"
   ]
  },
  {
   "cell_type": "markdown",
   "metadata": {},
   "source": [
    "*Hints:*"
   ]
  },
  {
   "cell_type": "code",
   "execution_count": 13,
   "metadata": {
    "collapsed": false
   },
   "outputs": [
    {
     "data": {
      "text/plain": [
       "1"
      ]
     },
     "execution_count": 13,
     "metadata": {},
     "output_type": "execute_result"
    }
   ],
   "source": [
    "# You'll neeed to use modulo\n",
    "4321%10"
   ]
  },
  {
   "cell_type": "code",
   "execution_count": 14,
   "metadata": {
    "collapsed": false
   },
   "outputs": [
    {
     "data": {
      "text/plain": [
       "432"
      ]
     },
     "execution_count": 14,
     "metadata": {},
     "output_type": "execute_result"
    }
   ],
   "source": [
    "4321 / 10"
   ]
  },
  {
   "cell_type": "markdown",
   "metadata": {
    "collapsed": true
   },
   "source": [
    "We'll need to think of this function recursively by knowing that:\n",
    "4502 % 10 + sum_func(4502/10)"
   ]
  },
  {
   "cell_type": "markdown",
   "metadata": {},
   "source": [
    "________\n",
    "### Problem 3\n",
    "*Note, this is a more advanced problem than the previous two! It aso has a lot of variation possibilities and we're ignoring strict requirements here.*\n",
    "\n",
    "Create a function called word_split() which takes in a string **phrase** and a set **list_of_words**. The function will then determine if it is possible to split the string in a way in which words can be made from the list of words. You can assume the phrase will only contain words found in the dictionary if it is completely splittable.\n",
    "\n",
    "For example:"
   ]
  },
  {
   "cell_type": "code",
   "execution_count": 32,
   "metadata": {
    "collapsed": false
   },
   "outputs": [
    {
     "data": {
      "text/plain": [
       "['the', 'man', 'ran']"
      ]
     },
     "execution_count": 32,
     "metadata": {},
     "output_type": "execute_result"
    }
   ],
   "source": [
    "word_split('themanran',['the','ran','man'])"
   ]
  },
  {
   "cell_type": "code",
   "execution_count": 33,
   "metadata": {
    "collapsed": false
   },
   "outputs": [
    {
     "data": {
      "text/plain": [
       "['i', 'love', 'dogs', 'John']"
      ]
     },
     "execution_count": 33,
     "metadata": {},
     "output_type": "execute_result"
    }
   ],
   "source": [
    "word_split('ilovedogsJohn',['i','am','a','dogs','lover','love','John'])"
   ]
  },
  {
   "cell_type": "code",
   "execution_count": 34,
   "metadata": {
    "collapsed": false
   },
   "outputs": [
    {
     "data": {
      "text/plain": [
       "[]"
      ]
     },
     "execution_count": 34,
     "metadata": {},
     "output_type": "execute_result"
    }
   ],
   "source": [
    "word_split('themanran',['clown','ran','man'])"
   ]
  },
  {
   "cell_type": "code",
   "execution_count": 20,
   "metadata": {
    "collapsed": false
   },
   "outputs": [],
   "source": [
    "def word_split(phrase,list_of_words, output = None):\n",
    "   \n",
    "    if list_of_words == []:\n",
    "        return output\n",
    "\n",
    "    if output == None:\n",
    "        output = list()\n",
    "\n",
    "    word = list_of_words.pop(0)\n",
    "    n = len(word)\n",
    "    \n",
    "    for idx, char in enumerate(phrase):\n",
    "        print \"word: \" + word + \" test: \" + phrase[idx:idx+n]\n",
    "        if phrase[idx:idx+n] == word:\n",
    "            print \"found!\"\n",
    "            output.append(word)\n",
    "            phrase.replace(word, '')\n",
    "            break\n",
    "        \n",
    "    return word_split(phrase, list_of_words, output)"
   ]
  },
  {
   "cell_type": "code",
   "execution_count": 21,
   "metadata": {
    "collapsed": false
   },
   "outputs": [
    {
     "name": "stdout",
     "output_type": "stream",
     "text": [
      "word: the test: the\n",
      "found!\n",
      "word: ran test: the\n",
      "word: ran test: hem\n",
      "word: ran test: ema\n",
      "word: ran test: man\n",
      "word: ran test: anr\n",
      "word: ran test: nra\n",
      "word: ran test: ran\n",
      "found!\n",
      "word: man test: the\n",
      "word: man test: hem\n",
      "word: man test: ema\n",
      "word: man test: man\n",
      "found!\n"
     ]
    },
    {
     "data": {
      "text/plain": [
       "['the', 'ran', 'man']"
      ]
     },
     "execution_count": 21,
     "metadata": {},
     "output_type": "execute_result"
    }
   ],
   "source": [
    "word_split('themanran',['the','ran','man'])"
   ]
  },
  {
   "cell_type": "code",
   "execution_count": 22,
   "metadata": {
    "collapsed": false
   },
   "outputs": [
    {
     "name": "stdout",
     "output_type": "stream",
     "text": [
      "word: i test: i\n",
      "found!\n",
      "word: am test: il\n",
      "word: am test: lo\n",
      "word: am test: ov\n",
      "word: am test: ve\n",
      "word: am test: ed\n",
      "word: am test: do\n",
      "word: am test: og\n",
      "word: am test: gs\n",
      "word: am test: sJ\n",
      "word: am test: Jo\n",
      "word: am test: oh\n",
      "word: am test: hn\n",
      "word: am test: n\n",
      "word: a test: i\n",
      "word: a test: l\n",
      "word: a test: o\n",
      "word: a test: v\n",
      "word: a test: e\n",
      "word: a test: d\n",
      "word: a test: o\n",
      "word: a test: g\n",
      "word: a test: s\n",
      "word: a test: J\n",
      "word: a test: o\n",
      "word: a test: h\n",
      "word: a test: n\n",
      "word: dogs test: ilov\n",
      "word: dogs test: love\n",
      "word: dogs test: oved\n",
      "word: dogs test: vedo\n",
      "word: dogs test: edog\n",
      "word: dogs test: dogs\n",
      "found!\n",
      "word: lover test: ilove\n",
      "word: lover test: loved\n",
      "word: lover test: ovedo\n",
      "word: lover test: vedog\n",
      "word: lover test: edogs\n",
      "word: lover test: dogsJ\n",
      "word: lover test: ogsJo\n",
      "word: lover test: gsJoh\n",
      "word: lover test: sJohn\n",
      "word: lover test: John\n",
      "word: lover test: ohn\n",
      "word: lover test: hn\n",
      "word: lover test: n\n",
      "word: love test: ilov\n",
      "word: love test: love\n",
      "found!\n",
      "word: John test: ilov\n",
      "word: John test: love\n",
      "word: John test: oved\n",
      "word: John test: vedo\n",
      "word: John test: edog\n",
      "word: John test: dogs\n",
      "word: John test: ogsJ\n",
      "word: John test: gsJo\n",
      "word: John test: sJoh\n",
      "word: John test: John\n",
      "found!\n"
     ]
    },
    {
     "data": {
      "text/plain": [
       "['i', 'dogs', 'love', 'John']"
      ]
     },
     "execution_count": 22,
     "metadata": {},
     "output_type": "execute_result"
    }
   ],
   "source": [
    "word_split('ilovedogsJohn',['i','am','a','dogs','lover','love','John'])"
   ]
  },
  {
   "cell_type": "code",
   "execution_count": 23,
   "metadata": {
    "collapsed": false
   },
   "outputs": [
    {
     "name": "stdout",
     "output_type": "stream",
     "text": [
      "word: clown test: thema\n",
      "word: clown test: heman\n",
      "word: clown test: emanr\n",
      "word: clown test: manra\n",
      "word: clown test: anran\n",
      "word: clown test: nran\n",
      "word: clown test: ran\n",
      "word: clown test: an\n",
      "word: clown test: n\n",
      "word: ran test: the\n",
      "word: ran test: hem\n",
      "word: ran test: ema\n",
      "word: ran test: man\n",
      "word: ran test: anr\n",
      "word: ran test: nra\n",
      "word: ran test: ran\n",
      "found!\n",
      "word: man test: the\n",
      "word: man test: hem\n",
      "word: man test: ema\n",
      "word: man test: man\n",
      "found!\n"
     ]
    },
    {
     "data": {
      "text/plain": [
       "['ran', 'man']"
      ]
     },
     "execution_count": 23,
     "metadata": {},
     "output_type": "execute_result"
    }
   ],
   "source": [
    "word_split('themanran',['clown','ran','man'])"
   ]
  },
  {
   "cell_type": "markdown",
   "metadata": {},
   "source": [
    "## Good Luck!\n",
    "\n",
    "Check out the Solutions Notebook once you're done!"
   ]
  }
 ],
 "metadata": {
  "anaconda-cloud": {},
  "kernelspec": {
   "display_name": "Python [default]",
   "language": "python",
   "name": "python2"
  },
  "language_info": {
   "codemirror_mode": {
    "name": "ipython",
    "version": 2
   },
   "file_extension": ".py",
   "mimetype": "text/x-python",
   "name": "python",
   "nbconvert_exporter": "python",
   "pygments_lexer": "ipython2",
   "version": "2.7.12"
  }
 },
 "nbformat": 4,
 "nbformat_minor": 0
}
